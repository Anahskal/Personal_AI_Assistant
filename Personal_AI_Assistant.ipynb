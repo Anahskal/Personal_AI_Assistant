{
  "nbformat": 4,
  "nbformat_minor": 0,
  "metadata": {
    "colab": {
      "provenance": [],
      "authorship_tag": "ABX9TyPfE6I14U86EecVrWT4xpWz",
      "include_colab_link": true
    },
    "kernelspec": {
      "name": "python3",
      "display_name": "Python 3"
    },
    "language_info": {
      "name": "python"
    }
  },
  "cells": [
    {
      "cell_type": "markdown",
      "metadata": {
        "id": "view-in-github",
        "colab_type": "text"
      },
      "source": [
        "<a href=\"https://colab.research.google.com/github/Anahskal/Personal_AI_Assistant/blob/main/Personal_AI_Assistant.ipynb\" target=\"_parent\"><img src=\"https://colab.research.google.com/assets/colab-badge.svg\" alt=\"Open In Colab\"/></a>"
      ]
    },
    {
      "cell_type": "code",
      "execution_count": 4,
      "metadata": {
        "id": "-maNJMCSdTd0"
      },
      "outputs": [],
      "source": [
        "!pip install transformers torch accelerate -q"
      ]
    },
    {
      "cell_type": "code",
      "source": [
        "from transformers import pipeline\n",
        "\n",
        "# Load a small open-source model\n",
        "assistant = pipeline('text2text-generation', model='google/flan-t5-small')"
      ],
      "metadata": {
        "colab": {
          "base_uri": "https://localhost:8080/",
          "height": 387
        },
        "id": "cDMhd_nbeYCK",
        "outputId": "cc11af2c-af63-4e1e-e347-6066ab3bfd7b"
      },
      "execution_count": 5,
      "outputs": [
        {
          "output_type": "stream",
          "name": "stderr",
          "text": [
            "/usr/local/lib/python3.12/dist-packages/huggingface_hub/utils/_auth.py:94: UserWarning: \n",
            "The secret `HF_TOKEN` does not exist in your Colab secrets.\n",
            "To authenticate with the Hugging Face Hub, create a token in your settings tab (https://huggingface.co/settings/tokens), set it as secret in your Google Colab and restart your session.\n",
            "You will be able to reuse this secret in all of your notebooks.\n",
            "Please note that authentication is recommended but still optional to access public models or datasets.\n",
            "  warnings.warn(\n"
          ]
        },
        {
          "output_type": "stream",
          "name": "stderr",
          "text": [
            "Device set to use cpu\n"
          ]
        }
      ]
    },
    {
      "cell_type": "code",
      "source": [
        "chat_history = []\n",
        "\n",
        "def ask_ai(user_input):\n",
        "    global chat_history\n",
        "    # Add user input to history\n",
        "    chat_history.append(f':User  {user_input}')\n",
        "\n",
        "    # Use last 5 turns as context\n",
        "    context = '\\n'.join(chat_history[-5:])\n",
        "\n",
        "    # Generate response\n",
        "    response = assistant(context)[0]['generated_text']\n",
        "\n",
        "    # Save response\n",
        "    chat_history.append(f'Assistant: {response}')\n",
        "    return response"
      ],
      "metadata": {
        "id": "-G9rMCEphR_k"
      },
      "execution_count": 6,
      "outputs": []
    },
    {
      "cell_type": "code",
      "source": [
        "while True:\n",
        "    user_input = input('You: ')\n",
        "    if user_input.lower() in ['exit', 'quit', 'bye']:\n",
        "        print('👋 Assistant: Goodbye!')\n",
        "        break\n",
        "    reply = ask_ai(user_input)\n",
        "    print('🤖 Assistant:', reply)"
      ],
      "metadata": {
        "colab": {
          "base_uri": "https://localhost:8080/"
        },
        "id": "0JEX7Cjahp9p",
        "outputId": "35aef57d-4e2e-4eee-958f-c1817ea662a2"
      },
      "execution_count": 8,
      "outputs": [
        {
          "output_type": "stream",
          "name": "stdout",
          "text": [
            "You: where is the white house located?\n",
            "🤖 Assistant: New York City\n",
            "You: bye\n",
            "👋 Assistant: Goodbye!\n"
          ]
        }
      ]
    }
  ]
}
