{
  "nbformat": 4,
  "nbformat_minor": 0,
  "metadata": {
    "colab": {
      "provenance": [],
      "authorship_tag": "ABX9TyPfE6I14U86EecVrWT4xpWz",
      "include_colab_link": true
    },
    "kernelspec": {
      "name": "python3",
      "display_name": "Python 3"
    },
    "language_info": {
      "name": "python"
    }
  },
  "cells": [
    {
      "cell_type": "markdown",
      "metadata": {
        "id": "view-in-github",
        "colab_type": "text"
      },
      "source": [
        "<a href=\"https://colab.research.google.com/github/Anahskal/Personal_AI_Assistant/blob/main/Personal_AI_Assistant.ipynb\" target=\"_parent\"><img src=\"https://colab.research.google.com/assets/colab-badge.svg\" alt=\"Open In Colab\"/></a>"
      ]
    },
    {
      "cell_type": "code",
      "execution_count": 1,
      "metadata": {
        "id": "-maNJMCSdTd0"
      },
      "outputs": [],
      "source": [
        "!pip install transformers torch accelerate -q"
      ]
    },
    {
      "cell_type": "code",
      "source": [
        "from transformers import pipeline\n",
        "\n",
        "# Load a small open-source model\n",
        "assistant = pipeline('text2text-generation', model='google/flan-t5-small')"
      ],
      "metadata": {
        "colab": {
          "base_uri": "https://localhost:8080/"
        },
        "id": "cDMhd_nbeYCK",
        "outputId": "98ce9791-5b38-44bb-9b37-52a263ee283f"
      },
      "execution_count": 2,
      "outputs": [
        {
          "output_type": "stream",
          "name": "stderr",
          "text": [
            "Device set to use cpu\n"
          ]
        }
      ]
    },
    {
      "cell_type": "code",
      "source": [
        "chat_history = []\n",
        "\n",
        "def ask_ai(user_input):\n",
        "    global chat_history\n",
        "    # Add user input to history\n",
        "    chat_history.append(f'User: {user_input}')\n",
        "\n",
        "    # Use last 5 turns as context\n",
        "    context = '\\n'.join(chat_history[-5:])\n",
        "\n",
        "    # Generate response\n",
        "    response = assistant(context)[0]['generated_text']\n",
        "\n",
        "    # Save response\n",
        "    chat_history.append(f'Assistant: {response}')\n",
        "    return response"
      ],
      "metadata": {
        "id": "-G9rMCEphR_k"
      },
      "execution_count": 3,
      "outputs": []
    },
    {
      "cell_type": "code",
      "source": [
        "while True:\n",
        "    user_input = input('You: ')\n",
        "    if user_input.lower() in ['exit', 'quit', 'bye']:\n",
        "        print('👋 Assistant: Goodbye!')\n",
        "        break\n",
        "    reply = ask_ai(user_input)\n",
        "    print('🤖 Assistant:', reply)"
      ],
      "metadata": {
        "colab": {
          "base_uri": "https://localhost:8080/"
        },
        "id": "0JEX7Cjahp9p",
        "outputId": "691c0445-d9d3-44a0-8085-705395c0a6c3"
      },
      "execution_count": 4,
      "outputs": [
        {
          "output_type": "stream",
          "name": "stdout",
          "text": [
            "You: where is the white house located?\n",
            "🤖 Assistant: New York City\n",
            "You: bye\n",
            "👋 Assistant: Goodbye!\n"
          ]
        }
      ]
    }
  ]
}